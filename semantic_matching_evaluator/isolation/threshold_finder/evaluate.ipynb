{
 "cells": [
  {
   "cell_type": "code",
   "execution_count": null,
   "metadata": {},
   "outputs": [],
   "source": []
  },
  {
   "cell_type": "code",
   "execution_count": 44,
   "metadata": {},
   "outputs": [],
   "source": [
    "from pprint import pprint\n",
    "from statistics import median\n",
    "import pandas as pd\n",
    "import sys, os\n",
    "sys.path.insert(0, os.path.abspath('../'))\n",
    "from load_results import load\n",
    "\n",
    "data_frame = load()\n",
    "# sub_data_other = data_frame[data_frame['algorithm'] == 'atm']\n",
    "sub_data_other = data_frame[data_frame['algorithm'] == 'atm']"
   ]
  },
  {
   "cell_type": "code",
   "execution_count": 45,
   "metadata": {},
   "outputs": [
    {
     "data": {
      "text/plain": [
       "count    737009.000000\n",
       "mean          1.117558\n",
       "std           1.219313\n",
       "min          -0.257655\n",
       "25%           0.267610\n",
       "50%           0.629889\n",
       "75%           1.625871\n",
       "max          10.569086\n",
       "Name: score, dtype: float64"
      ]
     },
     "execution_count": 45,
     "metadata": {},
     "output_type": "execute_result"
    }
   ],
   "source": [
    "sub_data_other['score'].describe()"
   ]
  },
  {
   "cell_type": "code",
   "execution_count": 50,
   "metadata": {},
   "outputs": [
    {
     "data": {
      "text/plain": [
       "count    1158.000000\n",
       "mean        2.284903\n",
       "std         1.703550\n",
       "min         0.500000\n",
       "25%         1.125000\n",
       "50%         2.000000\n",
       "75%         2.439394\n",
       "max         9.942857\n",
       "Name: score, dtype: float64"
      ]
     },
     "execution_count": 50,
     "metadata": {},
     "output_type": "execute_result"
    }
   ],
   "source": [
    "conditions = (sub_data_other['embedding']=='edit') & \\\n",
    "(sub_data_other['train_set']=='empty') & \\\n",
    "((sub_data_other['score']>0.45)) &\\\n",
    "(sub_data_other['target_label']=='correct')\n",
    "sub_data_other[conditions]['score'].describe()"
   ]
  },
  {
   "cell_type": "code",
   "execution_count": null,
   "metadata": {},
   "outputs": [],
   "source": []
  }
 ],
 "metadata": {
  "kernelspec": {
   "display_name": "Python 3",
   "language": "python",
   "name": "python3"
  },
  "language_info": {
   "codemirror_mode": {
    "name": "ipython",
    "version": 3
   },
   "file_extension": ".py",
   "mimetype": "text/x-python",
   "name": "python",
   "nbconvert_exporter": "python",
   "pygments_lexer": "ipython3",
   "version": "3.7.3"
  }
 },
 "nbformat": 4,
 "nbformat_minor": 4
}
