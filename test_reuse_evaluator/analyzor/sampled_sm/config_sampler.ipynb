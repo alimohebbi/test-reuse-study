{
 "cells": [
  {
   "cell_type": "code",
   "execution_count": 1,
   "metadata": {
    "collapsed": true
   },
   "outputs": [],
   "source": [
    "import os\n",
    "\n",
    "import pandas as pd\n",
    "import yaml\n",
    "from pandas import read_csv\n",
    "\n",
    "THIS_FOLDER = os.path.dirname(os.path.abspath(__file__))\n",
    "ROOT_PATH = os.path.join(THIS_FOLDER, '../../')\n",
    "with open('../config.yml') as file:\n",
    "    config = yaml.safe_load(file)"
   ]
  },
  {
   "cell_type": "code",
   "execution_count": 2,
   "outputs": [],
   "source": [
    "configs_mrr = pd.read_csv(ROOT_PATH + config['semantic_matching_results']+ 'latest_all.csv')\n",
    "configs_mrr.sort_values(by = ['MRR'], ascending=False, inplace=True)\n"
   ],
   "metadata": {
    "collapsed": false,
    "pycharm": {
     "name": "#%%\n"
    }
   }
  },
  {
   "cell_type": "code",
   "execution_count": 3,
   "outputs": [],
   "source": [
    "def standard_expand(row):\n",
    "    if row['training_set'] == 'standard':\n",
    "        return row['training_set'] +'*'+ row['word_embedding']\n",
    "    return row['training_set']\n",
    "\n",
    "def change_columns_order(df):\n",
    "    cols = df.columns.tolist()\n",
    "    cols = cols[-1:] + cols[:-1]\n",
    "    return df[cols]\n",
    "\n",
    "def coverage_finder(configs_mrr):\n",
    "    covers = []\n",
    "    for i in range(15):\n",
    "        sample_config = configs_mrr.iloc[::i+1].copy()\n",
    "        step = sample_config.agg(['nunique'])\n",
    "        step['step'] = i+1\n",
    "        covers.append(step)\n",
    "    coverage = pd.concat(covers).reset_index(drop=True).sort_values(by = ['step'], ascending=True)\n",
    "    coverage.rename(columns={'MRR':'n_config'}, inplace=True)\n",
    "    return change_columns_order(coverage)"
   ],
   "metadata": {
    "collapsed": false,
    "pycharm": {
     "name": "#%%\n"
    }
   }
  },
  {
   "cell_type": "code",
   "execution_count": 4,
   "outputs": [],
   "source": [
    "\n",
    "coverage = coverage_finder(configs_mrr)\n",
    "coverage.to_csv('config_sample_stats.csv', index=False)\n",
    "standard_expanded = configs_mrr.copy()\n",
    "standard_expanded['training_set'] = configs_mrr.apply(standard_expand, axis=1)\n",
    "coverage_standard = coverage_finder(standard_expanded)\n",
    "coverage_standard.to_csv('config_sample_expanded_stats.csv', index=False)"
   ],
   "metadata": {
    "collapsed": false,
    "pycharm": {
     "name": "#%%\n"
    }
   }
  },
  {
   "cell_type": "code",
   "execution_count": 5,
   "outputs": [],
   "source": [
    "configs_mrr.iloc[::5].to_csv('converted.csv', index=False)\n"
   ],
   "metadata": {
    "collapsed": false,
    "pycharm": {
     "name": "#%%\n"
    }
   }
  }
 ],
 "metadata": {
  "kernelspec": {
   "display_name": "Python 3",
   "language": "python",
   "name": "python3"
  },
  "language_info": {
   "codemirror_mode": {
    "name": "ipython",
    "version": 2
   },
   "file_extension": ".py",
   "mimetype": "text/x-python",
   "name": "python",
   "nbconvert_exporter": "python",
   "pygments_lexer": "ipython2",
   "version": "2.7.6"
  }
 },
 "nbformat": 4,
 "nbformat_minor": 0
}